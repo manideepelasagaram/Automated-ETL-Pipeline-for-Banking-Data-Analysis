{
 "cells": [
  {
   "cell_type": "markdown",
   "id": "873dff96",
   "metadata": {},
   "source": [
    "#  Automated ETL Pipeline for Banking Data Analysis\n",
    "\n"
   ]
  },
  {
   "cell_type": "code",
   "execution_count": 1,
   "id": "6cd97868",
   "metadata": {},
   "outputs": [],
   "source": [
    "import requests\n",
    "from bs4 import BeautifulSoup\n",
    "import pandas as pd\n",
    "import numpy as np\n",
    "import sqlite3\n",
    "from datetime import datetime\n"
   ]
  },
  {
   "cell_type": "code",
   "execution_count": 2,
   "id": "42c220e9",
   "metadata": {},
   "outputs": [],
   "source": [
    "# URL and paths\n",
    "url = 'https://web.archive.org/web/20230908091635/https://en.wikipedia.org/wiki/List_of_largest_banks'\n",
    "exchange_rate_csv_path = 'https://cf-courses-data.s3.us.cloud-object-storage.appdomain.cloud/IBMSkillsNetwork-PY0221EN-Coursera/labs/v2/exchange_rate.csv'\n",
    "csv_output_path = './Largest_banks_data.csv'\n",
    "db_name = 'Banks.db'\n",
    "table_name = 'Largest_banks'\n",
    "log_file = 'code_log.txt'\n"
   ]
  },
  {
   "cell_type": "code",
   "execution_count": 3,
   "id": "78af65f3",
   "metadata": {},
   "outputs": [],
   "source": [
    "# Setup logging\n",
    "def log_progress(message):\n",
    "    '''Logs the given message with a timestamp to the log file and prints it.'''\n",
    "    timestamp_format = '%Y-%m-%d %H:%M:%S'  # Year-Month-Day-Hour-Minute-Second\n",
    "    now = datetime.now()  # get current timestamp\n",
    "    timestamp = now.strftime(timestamp_format)\n",
    "    log_message = f\"{timestamp} : {message}\"\n",
    "    with open(log_file, \"a\") as f:\n",
    "        f.write(log_message + '\\n')\n",
    "    print(log_message)\n"
   ]
  },
  {
   "cell_type": "code",
   "execution_count": 4,
   "id": "872bc319",
   "metadata": {},
   "outputs": [
    {
     "name": "stdout",
     "output_type": "stream",
     "text": [
      "2024-06-08 18:14:02 : Preliminaries complete. Initiating ETL process\n"
     ]
    }
   ],
   "source": [
    "# Make the first log entry\n",
    "log_progress('Preliminaries complete. Initiating ETL process')\n",
    "\n",
    "def extract(url):\n",
    "    '''Extracts the table under the heading \"By market capitalization\" from the given URL to a Pandas dataframe.'''\n",
    "    page = requests.get(url).text\n",
    "    soup = BeautifulSoup(page, 'html.parser')\n",
    "    table = soup.find('table', {'class': 'wikitable'})\n",
    "    \n",
    "    headers = ['Name', 'MC_USD_Billion']\n",
    "    df = pd.DataFrame(columns=headers)\n",
    "    \n",
    "    rows = table.find_all('tr')\n",
    "    data = []\n",
    "    for row in rows[1:11]:  # Top 10 banks\n",
    "        cols = row.find_all('td')\n",
    "        if len(cols) > 1:\n",
    "            name = cols[1].text.strip()\n",
    "            mc_usd = float(cols[2].text.strip().replace(',', '').replace('\\n', ''))\n",
    "            data.append({'Name': name, 'MC_USD_Billion': mc_usd})\n",
    "    df = pd.DataFrame(data)\n",
    "    \n",
    "    log_progress(\"Data extraction complete. Initiating Transformation process\")\n",
    "    return df\n",
    "\n"
   ]
  },
  {
   "cell_type": "code",
   "execution_count": 5,
   "id": "4b494e35",
   "metadata": {},
   "outputs": [],
   "source": [
    "#Transform\n",
    "def transform(df, exchange_rate_csv_path):\n",
    "    '''Transforms the dataframe by adding Market Capitalization in GBP, EUR, and INR based on exchange rates.'''\n",
    "    exchange_rates = pd.read_csv(exchange_rate_csv_path, index_col=0).squeeze().to_dict()\n",
    "    df['MC_GBP_Billion'] = [np.round(x * exchange_rates['GBP'], 2) for x in df['MC_USD_Billion']]\n",
    "    df['MC_EUR_Billion'] = [np.round(x * exchange_rates['EUR'], 2) for x in df['MC_USD_Billion']]\n",
    "    df['MC_INR_Billion'] = [np.round(x * exchange_rates['INR'], 2) for x in df['MC_USD_Billion']]\n",
    "    log_progress(\"Data transformation complete. Initiating Loading process\")\n",
    "    return df\n"
   ]
  },
  {
   "cell_type": "code",
   "execution_count": 6,
   "id": "6830734b",
   "metadata": {},
   "outputs": [],
   "source": [
    "#Load to csv\n",
    "def load_to_csv(df, csv_path):\n",
    "    '''Saves the dataframe to a CSV file.'''\n",
    "    df.to_csv(csv_path, index=False)\n",
    "    log_progress(\"Data saved to CSV file\")\n",
    "\n"
   ]
  },
  {
   "cell_type": "code",
   "execution_count": 7,
   "id": "682eb9ed",
   "metadata": {},
   "outputs": [],
   "source": [
    "#Load to Database\n",
    "def load_to_db(df, db_name, table_name):\n",
    "    '''Saves the dataframe to a SQLite database.'''\n",
    "    conn = sqlite3.connect(db_name)\n",
    "    df.to_sql(table_name, conn, if_exists='replace', index=False)\n",
    "    log_progress(\"Data loaded to Database as a table, Executing queries\")\n",
    "    return conn\n"
   ]
  },
  {
   "cell_type": "code",
   "execution_count": 8,
   "id": "ca528302",
   "metadata": {},
   "outputs": [],
   "source": [
    "#Run Query\n",
    "def run_query(query, conn):\n",
    "    '''Runs a SQL query and prints the result.'''\n",
    "    df = pd.read_sql(query, conn)\n",
    "    print(df)\n",
    "    log_progress(\"Process Complete\")\n",
    "    return df\n"
   ]
  },
  {
   "cell_type": "code",
   "execution_count": 9,
   "id": "34456b68",
   "metadata": {},
   "outputs": [
    {
     "name": "stdout",
     "output_type": "stream",
     "text": [
      "2024-06-08 18:14:03 : Data extraction complete. Initiating Transformation process\n",
      "2024-06-08 18:14:03 : Data transformation complete. Initiating Loading process\n",
      "2024-06-08 18:14:03 : Data saved to CSV file\n",
      "2024-06-08 18:14:03 : Data loaded to Database as a table, Executing queries\n",
      "Query 1 Results:\n",
      "                                      Name  MC_USD_Billion  MC_GBP_Billion  \\\n",
      "0                           JPMorgan Chase          432.92          346.34   \n",
      "1                          Bank of America          231.52          185.22   \n",
      "2  Industrial and Commercial Bank of China          194.56          155.65   \n",
      "3               Agricultural Bank of China          160.68          128.54   \n",
      "4                                HDFC Bank          157.91          126.33   \n",
      "5                              Wells Fargo          155.87          124.70   \n",
      "6                        HSBC Holdings PLC          148.90          119.12   \n",
      "7                           Morgan Stanley          140.83          112.66   \n",
      "8                  China Construction Bank          139.82          111.86   \n",
      "9                            Bank of China          136.81          109.45   \n",
      "\n",
      "   MC_EUR_Billion  MC_INR_Billion  \n",
      "0          402.62        35910.71  \n",
      "1          215.31        19204.58  \n",
      "2          180.94        16138.75  \n",
      "3          149.43        13328.41  \n",
      "4          146.86        13098.63  \n",
      "5          144.96        12929.42  \n",
      "6          138.48        12351.26  \n",
      "7          130.97        11681.85  \n",
      "8          130.03        11598.07  \n",
      "9          127.23        11348.39  \n",
      "2024-06-08 18:14:03 : Process Complete\n",
      "Query 2 Results:\n",
      "   AVG(MC_GBP_Billion)\n",
      "0              151.987\n",
      "2024-06-08 18:14:03 : Process Complete\n",
      "Query 3 Results:\n",
      "                                      Name\n",
      "0                           JPMorgan Chase\n",
      "1                          Bank of America\n",
      "2  Industrial and Commercial Bank of China\n",
      "3               Agricultural Bank of China\n",
      "4                                HDFC Bank\n",
      "2024-06-08 18:14:03 : Process Complete\n",
      "2024-06-08 18:14:03 : Server Connection closed\n"
     ]
    }
   ],
   "source": [
    "# Run ETL process\n",
    "df = extract(url)\n",
    "df = transform(df, exchange_rate_csv_path)\n",
    "load_to_csv(df, csv_output_path)\n",
    "\n",
    "conn = load_to_db(df, db_name, table_name)\n",
    "\n",
    "# Run queries on the database\n",
    "query_1 = \"SELECT * FROM Largest_banks\"\n",
    "query_2 = \"SELECT AVG(MC_GBP_Billion) FROM Largest_banks\"\n",
    "query_3 = \"SELECT Name FROM Largest_banks LIMIT 5\"\n",
    "\n",
    "print(\"Query 1 Results:\")\n",
    "run_query(query_1, conn)\n",
    "\n",
    "print(\"Query 2 Results:\")\n",
    "run_query(query_2, conn)\n",
    "\n",
    "print(\"Query 3 Results:\")\n",
    "run_query(query_3, conn)\n",
    "\n",
    "# Close SQLite3 connection\n",
    "conn.close()\n",
    "log_progress(\"Server Connection closed\")"
   ]
  },
  {
   "cell_type": "code",
   "execution_count": null,
   "id": "42be4978",
   "metadata": {},
   "outputs": [],
   "source": []
  }
 ],
 "metadata": {
  "kernelspec": {
   "display_name": "Python 3 (ipykernel)",
   "language": "python",
   "name": "python3"
  },
  "language_info": {
   "codemirror_mode": {
    "name": "ipython",
    "version": 3
   },
   "file_extension": ".py",
   "mimetype": "text/x-python",
   "name": "python",
   "nbconvert_exporter": "python",
   "pygments_lexer": "ipython3",
   "version": "3.9.12"
  }
 },
 "nbformat": 4,
 "nbformat_minor": 5
}
